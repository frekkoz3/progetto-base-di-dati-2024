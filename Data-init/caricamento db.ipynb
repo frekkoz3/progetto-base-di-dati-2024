{
 "cells": [
  {
   "cell_type": "markdown",
   "metadata": {},
   "source": [
    "Solo per curiosità personale, questo è il modo in cui sono stati costruiti i primi dati per la base di dati."
   ]
  },
  {
   "cell_type": "code",
   "execution_count": 28,
   "metadata": {},
   "outputs": [],
   "source": [
    "import random\n",
    "import datetime\n",
    "from datetime import date\n",
    "from datetime import timedelta"
   ]
  },
  {
   "cell_type": "code",
   "execution_count": 29,
   "metadata": {},
   "outputs": [],
   "source": [
    "# creiamo per prime le regioni galattiche\n",
    "\n",
    "nomi = open(\"nomi regioni.txt\", \"r\")\n",
    "valute = open(\"valuta.txt\", \"r\")\n",
    "\n",
    "v = []\n",
    "for va in valute:\n",
    "    v.append(va.strip())\n",
    "\n",
    "n = []\n",
    "for no in nomi:\n",
    "    n.append(no.strip())\n",
    "\n",
    "nomi.close()\n",
    "valute.close()\n",
    "\n",
    "foundation = date.today()\n",
    "\n",
    "regioni = [] # qui ci sono tutte le regioni galattiche che ci occorrono\n",
    "c = 32 # le regioni partono dal 32\n",
    "for i in range (6):\n",
    "    delta = random.randint(-365*1000, -365*500)\n",
    "    s = f\"({c + i}, '{foundation + timedelta(days=delta)}', '{n[i]}', '{v[random.randrange(0, len(v))]}')\"\n",
    "    regioni.append(s)"
   ]
  },
  {
   "cell_type": "code",
   "execution_count": 30,
   "metadata": {},
   "outputs": [],
   "source": [
    "# pensiamo a creare i consoli\n",
    "\n",
    "nomi = open(\"nomi cognomi consoli.txt\", \"r\")\n",
    "\n",
    "n = []\n",
    "c = []\n",
    "for no in nomi:\n",
    "    r = no.strip().split(\" \")\n",
    "    n.append(r[0])\n",
    "    c.append(r[1])\n",
    "\n",
    "foundation = date.today()\n",
    "\n",
    "consoli = []\n",
    "offset_distretto = 16 # i codici distretto vanno dal 16 in sù\n",
    "c_c = 0\n",
    "for i in range (0, 15):\n",
    "    delta = random.randint(-365*80, -165*30)\n",
    "    s = f\"({c_c + i}, '{n[i]}', '{c[i]}', '{foundation + timedelta(days = delta)}', '{foundation}', '+{random.randint(30, 40)} {random.randint(100000000, 999999999)}', {i + offset_distretto})\" # l'aggiornamento della data di fine mandato avverrà in automatico \n",
    "    consoli.append(s)\n",
    "\n",
    "for i in range (15, 30):\n",
    "    delta = random.randint(-365*80, -165*30)\n",
    "    s = f\"({c_c + i}, '{n[i]}', '{c[i]}', '{foundation + timedelta(days = delta)}', '{foundation + timedelta(days = 3*365)}', '+{random.randint(30, 40)} {random.randint(100000000, 999999999)}', {(i-15) + offset_distretto})\"\n",
    "    consoli.append(s)"
   ]
  },
  {
   "cell_type": "code",
   "execution_count": 31,
   "metadata": {},
   "outputs": [],
   "source": [
    "# pensiamo a creare i distretti \n",
    "\n",
    "distretti = []\n",
    "\n",
    "# partono da 16 i distretti \n",
    "\n",
    "for i in range (0, 15):\n",
    "    s = f\"({i + 16}, {32 + random.randrange(0, 6)}, {i})\"\n",
    "    distretti.append(s)"
   ]
  },
  {
   "cell_type": "code",
   "execution_count": 32,
   "metadata": {},
   "outputs": [],
   "source": [
    "# creiamo infine i mondi\n",
    "\n",
    "nomi = open(\"nomi mondi.txt\", \"r\")\n",
    "\n",
    "n = []\n",
    "for no in nomi:\n",
    "    n.append(no.strip())\n",
    "\n",
    "mondi = []\n",
    "\n",
    "c_m = 64 # offset dei mondi \n",
    "foundation = date.today()\n",
    "for i in range (len(n)):\n",
    "    delta = random.randint(-100*365, -40*365)\n",
    "    s = f\"({c_m + i},'{n[i]}', '{foundation + timedelta(days=delta)}', {random.randrange(100, 10000)}, {random.randint(100000, 1000000)}, {random.randint(1000, 1000000)}, {random.randint(1, 7)}, {random.randrange(16, 31)})\"\n",
    "    mondi.append(s)"
   ]
  },
  {
   "cell_type": "code",
   "execution_count": 33,
   "metadata": {},
   "outputs": [],
   "source": [
    "o1 = open(\"regioni.txt\", \"w\")\n",
    "for r in regioni:\n",
    "    o1.write(f\"{r},\\n\")\n",
    "o2 = open(\"distretti.txt\", \"w\")\n",
    "for d in distretti:\n",
    "    o2.write(f\"{d},\\n\")\n",
    "o3 = open(\"consoli.txt\", \"w\")\n",
    "for c in consoli:\n",
    "    o3.write(f\"CALL inserisciConsole{c};\\n\")\n",
    "o4 = open(\"mondi.txt\", \"w\")\n",
    "for m in mondi:\n",
    "    o4.write(f\"{m},\\n\")\n",
    "\n",
    "o1.close()\n",
    "o2.close()\n",
    "o3.close()\n",
    "o4.close()"
   ]
  }
 ],
 "metadata": {
  "kernelspec": {
   "display_name": "Python 3",
   "language": "python",
   "name": "python3"
  },
  "language_info": {
   "codemirror_mode": {
    "name": "ipython",
    "version": 3
   },
   "file_extension": ".py",
   "mimetype": "text/x-python",
   "name": "python",
   "nbconvert_exporter": "python",
   "pygments_lexer": "ipython3",
   "version": "3.12.3"
  }
 },
 "nbformat": 4,
 "nbformat_minor": 2
}
