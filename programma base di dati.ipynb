{
 "cells": [
  {
   "cell_type": "markdown",
   "metadata": {},
   "source": [
    "# PROGETTO BASE DI DATI BREDARIOL FRANCESCO\n",
    "\n",
    "Sviluppiamo all'interno di questo notebook una semplice interfaccia che permetta di utilizzare la base di dati preparate in vista dell'esame di Base di Dati.\n",
    "\n",
    "Per la precisione creeremo un semplice ambiente che permette di simulare il passare degli anni e dunque cambiare lo stato del database. L'ambiente permetterà di effettuare le operazioni principali definite nel progetto (operazioni A, B, C, D, E) in maniera personalizzata."
   ]
  },
  {
   "cell_type": "markdown",
   "metadata": {},
   "source": [
    "## SISTEMA TRIBUTARIO IMPERO GALATTICO DI AGOSTINO MDI"
   ]
  },
  {
   "cell_type": "markdown",
   "metadata": {},
   "source": [
    "Anziché usare semplicemente cursor.execute() definiamo questa versione più sicura che prevede la gestione degli errori ed il commit automatico della query tramite prepared statement."
   ]
  },
  {
   "cell_type": "code",
   "execution_count": null,
   "metadata": {},
   "outputs": [],
   "source": [
    "import mysql.connector\n",
    "from mysql.connector import Error\n",
    "\n",
    "mydb = mysql.connector.connect(host=\"localhost\", user=\"root\", password=\"AIDA2023!!aaa\", database=\"STI\")"
   ]
  },
  {
   "cell_type": "code",
   "execution_count": null,
   "metadata": {},
   "outputs": [],
   "source": [
    "def execute_query(db, query, data=None):\n",
    "    cursor = db.cursor()\n",
    "    try:\n",
    "        if data:\n",
    "            cursor.execute(query, data)\n",
    "        else:\n",
    "            cursor.execute(query)\n",
    "        db.commit()\n",
    "    except Error as e:\n",
    "        if str(e) != 'Unread result found':\n",
    "            print(f\"The error '{e}' occurred\")\n",
    "    try:\n",
    "        res = cursor.fetchall()\n",
    "        cursor.close()\n",
    "        return res\n",
    "    except Error as e:\n",
    "        return None"
   ]
  },
  {
   "cell_type": "markdown",
   "metadata": {},
   "source": [
    "L'anno corrente per il db è il 2026. Nel 2027 avverranno nuove elezioni. Le elezioni avvengono ogni 3 anni, dunque per l'esattezza ogni volta che YYYY%3 è uguale a 2. Le emissioni dei tributi avvengono il primo di gennaio di ogni anno.\n",
    "\n",
    "**Nota** \n",
    "\n",
    "Settiamo l'anno corrente in realtà come l'anno del pagamento avvenuto più tardi tra tutti i pagamenti presenti così che se venisse eseguito il notebook python più volte senza risettare tramite script MySQL il database la logica resterebbe intatta."
   ]
  },
  {
   "cell_type": "code",
   "execution_count": null,
   "metadata": {},
   "outputs": [],
   "source": [
    "query = \"select year(max(dataDiEmissione)) from tributi group by DataDiEmissione;\"\n",
    "res = execute_query(mydb, query)\n",
    "CURRENT_YEAR = int(res[0][0])"
   ]
  },
  {
   "cell_type": "markdown",
   "metadata": {},
   "source": [
    "Definiamo la funzione che simula il passare di un anno."
   ]
  },
  {
   "cell_type": "code",
   "execution_count": null,
   "metadata": {},
   "outputs": [],
   "source": [
    "def one_year_later(db):\n",
    "    global CURRENT_YEAR\n",
    "    CURRENT_YEAR = CURRENT_YEAR + 1\n",
    "    data = (f'{CURRENT_YEAR}-01-01',)\n",
    "    execute_query(db, \"CALL batchtributi(%s)\", data)\n",
    "    if CURRENT_YEAR%3 == 2:\n",
    "        new_election(db)\n",
    "    paga_tributi(db)\n",
    "    aggiorna_mondi(db)\n",
    "    print(f\"ora siamo nel {CURRENT_YEAR}\")\n",
    "    return 0"
   ]
  },
  {
   "cell_type": "markdown",
   "metadata": {},
   "source": [
    "Andiamo a definire una funzione che crei per ogni distretto un nuovo Console.\n",
    "\n",
    "**Nota** \n",
    "\n",
    "Viene importata la libreria faker per poter generare nomi casuali facilmente per i Consoli. Qualora si volesse effettivamente vedere il funzionamento del programma, la documentazione per il download della libreria è [qui](https://faker.readthedocs.io/en/master/)."
   ]
  },
  {
   "cell_type": "code",
   "execution_count": null,
   "metadata": {},
   "outputs": [],
   "source": [
    "from faker import Faker\n",
    "import datetime\n",
    "from datetime import date, timedelta\n",
    "import random\n",
    "\n",
    "def contatto_random():\n",
    "    return f'+{random.randint(30, 40)} {random.randint(100000000, 999999999)}'\n",
    "\n",
    "def new_election(db):\n",
    "    data_attuale = f\"{CURRENT_YEAR}-05-18\"\n",
    "    data = date.fromisoformat(data_attuale)\n",
    "    \n",
    "    fake = Faker()\n",
    "\n",
    "    numero_distretti = int(execute_query(db, \"SELECT count(*) from distretti\")[0][0])\n",
    "    codice_imperiale = int(execute_query(db, \"SELECT max(codiceImperiale) from consoli\")[0][0]) + 1\n",
    "    codice_distretto = int(execute_query(db, \"SELECT min(codiceDistretto) from distretti\")[0][0])\n",
    "\n",
    "    for i in range (numero_distretti):\n",
    "        name = fake.name().split(' ')\n",
    "        delta = random.randint(-365*80, -165*30)\n",
    "        new_console = (codice_imperiale, name[0], name[1], data + timedelta(days = delta), data, contatto_random(), codice_distretto)\n",
    "        execute_query(db, \"CALL inserisciConsole(%s, %s, %s, %s, %s, %s, %s)\", new_console)\n",
    "        codice_distretto = codice_distretto + 1\n",
    "        codice_imperiale = codice_imperiale + 1"
   ]
  },
  {
   "cell_type": "markdown",
   "metadata": {},
   "source": [
    "Paghiamo casualmente alcuni tributi. Utilizziamo un prepared statement che ci trova consoli compatibili all'occorrenza per semplicità."
   ]
  },
  {
   "cell_type": "code",
   "execution_count": null,
   "metadata": {},
   "outputs": [],
   "source": [
    "def paga_tributi(db):\n",
    "    data_attuale = f\"{CURRENT_YEAR}-07-20\"\n",
    "    data = date.fromisoformat(data_attuale)\n",
    "\n",
    "    query_tributi = \"select tributi.numeroTributo, tributi.codiceDistretto, distretti.codiceConsole, distretti.CodiceRegione from tributi join distretti using (codiceDistretto) where status = 'non pagato';\"\n",
    "    tributi = execute_query(db, query_tributi)\n",
    "    \n",
    "    for t in tributi:\n",
    "        query_testimoni = \"select consoli.codiceImperiale from consoli join distretti on consoli.codiceImperiale = distretti.codiceConsole join regioni using (codiceRegione) where distretti.codiceConsole != %s and regioni.codiceRegione != %s limit 2;\"\n",
    "        testimoni = execute_query(db, query_testimoni, (t[2], t[3]))\n",
    "        if len (testimoni) < 2 or testimoni == None:\n",
    "            continue\n",
    "        payments = random.uniform(0, 1)\n",
    "        if payments < 0.9:\n",
    "            query_pagamenti = \"insert into pagamenti (DataDiPagamento, NumeroTributo, CodiceConsolePagante, CodiceConsoleTestimone1, CodiceConsoleTestimone2) values (%s, %s, %s, %s, %s)\"\n",
    "            execute_query(db, query_pagamenti, (data, t[0], t[2], testimoni[0][0], testimoni[1][0]))\n",
    "    return 0"
   ]
  },
  {
   "cell_type": "markdown",
   "metadata": {},
   "source": [
    "Aggiorniamo casualmente tutti i mondi insieme così da modificare i tributi calcolati."
   ]
  },
  {
   "cell_type": "code",
   "execution_count": null,
   "metadata": {},
   "outputs": [],
   "source": [
    "def aggiorna_mondi(db):\n",
    "    delta = random.uniform(0.5, 1.5)\n",
    "    query = \"UPDATE mondi set PIL = PIL*%s\"\n",
    "    execute_query(db, query, (delta, ))\n",
    "    delta = random.uniform(0.9, 1.1)\n",
    "    query = \"UPDATE mondi SET abitanti = abitanti*%s\"\n",
    "    execute_query(db, query, (delta, ))\n",
    "    delta = random.uniform(0.95, 1.05)\n",
    "    query = \"UPDATE mondi SET superficieproduttiva = superficieproduttiva*%s\"\n",
    "    execute_query(db, query, (delta, ))\n",
    "    return 0"
   ]
  },
  {
   "cell_type": "markdown",
   "metadata": {},
   "source": [
    "**Operazione A**\n",
    "\n",
    "*Visualizzare i tributi dovuti da ogni Distretto in tempo reale, nonché da ogni Regione per poter comprendere in quali zone esercitare maggiore pressione*\n",
    "\n",
    "---\n",
    "\n",
    "L'operazione A è un'operazione senza parametri, dunque sarà sufficiente eseguire una semplice query. Tuttavia diamo la possibilità di scegliere se eseguire l'analisi per Distretto o l'analisi per Regione."
   ]
  },
  {
   "cell_type": "code",
   "execution_count": null,
   "metadata": {},
   "outputs": [],
   "source": [
    "def operazioneA(db):\n",
    "    choose = input(\"Desidera visualizzare i debiti dei distretti o delle regioni? (d/r) \")\n",
    "    while choose != 'r' and choose != 'd':\n",
    "        choose = input(\"Desidera visualizzare i debiti dei distretti o delle regioni? (d/r) \")\n",
    "    if choose == 'd':\n",
    "        query = \"select sum(if(status = 'non pagato', ammontare, 0)) as debito, codiceDistretto from tributi group by codiceDistretto order by debito; \"\n",
    "        res = execute_query(db, query)\n",
    "        for x in res:\n",
    "            print(f\"debito : {x[0]} A - distretto : {x[1]}\")\n",
    "    else:\n",
    "        query = \"select sum(if(status = 'non pagato', ammontare, 0)) as debito, distretti.codiceRegione from tributi join Distretti on tributi.codiceDistretto = distretti.CodiceDistretto group by distretti.codiceRegione order by debito;\"\n",
    "        res = execute_query(db, query)\n",
    "        for x in res:\n",
    "            print(f\"debito : {x[0]} A - regione : {x[1]}\")"
   ]
  },
  {
   "cell_type": "markdown",
   "metadata": {},
   "source": [
    "**Operazione B**\n",
    "\n",
    "*Visualizzare i 5 Distretti che hanno contribuito maggiormente in un determinato periodo*\n",
    "\n",
    "---\n",
    "\n",
    "L'operazione B è un'operazione parametrizzata un po' delicata in quanto gestire le date può essere difficile visto che Python non è tipicizzato. Nessun problema: sfruttiamo la libreria datetime e accettiamo solo date nell'ISOformat YYYY-MM-DD."
   ]
  },
  {
   "cell_type": "code",
   "execution_count": null,
   "metadata": {},
   "outputs": [],
   "source": [
    "def operazioneB(db):\n",
    "    query = \"select sum(if(status = 'pagato', ammontare, 0)) as contributo, codiceDistretto from tributi join pagamenti on tributi.numeroTributo = pagamenti.numeroTributo where dataDiPagamento between %s and %s group by codiceDistretto order by contributo desc limit 5;\"\n",
    "    data_inizio = input(\"Inserisci data di inizio analisi contributi nella forma YYYY-MM-DD\")\n",
    "    try:\n",
    "        data_inizio = date.fromisoformat(data_inizio)\n",
    "    except Error as e:\n",
    "        print(\"Data non valida\")\n",
    "        return 1\n",
    "    data_fine = input(\"Inserisci data di fine analisi contributi nella forma YYYY-MM-DD\")\n",
    "    try:\n",
    "        data_fine = date.fromisoformat(data_fine)\n",
    "    except Error as e:\n",
    "        print(\"Data non valida\")\n",
    "        return 1\n",
    "    if data_inizio > data_fine:\n",
    "        print(\"Data_inizio maggiore di Data_fine, effettueremo uno swap nell'ordine.\")\n",
    "        t = data_fine\n",
    "        data_fine = data_inizio\n",
    "        data_inizio = t\n",
    "    res = execute_query(db, query, (data_inizio, data_fine))\n",
    "    for x in res:\n",
    "        print(f\"contributo : {x[0]} A - distretto : {x[1]}\")"
   ]
  },
  {
   "cell_type": "markdown",
   "metadata": {},
   "source": [
    "**Operazione C**\n",
    "\n",
    "*Dato un determinato Distretto visualizzare i tributi che deve nella sua moneta Regionale*\n",
    "\n",
    "---\n",
    "\n",
    "L'operazione C ha un singolo parametro, il codice del Distretto desiderato. Pensiamo allora a gestire il caso in cui il codice del Distretto inserito non sia valido."
   ]
  },
  {
   "cell_type": "code",
   "execution_count": null,
   "metadata": {},
   "outputs": [],
   "source": [
    "def operazioneC(db):\n",
    "    query = \"select sum(if(status = 'non pagato', ammontare, 0))*tassodiconversione as Debito, TUCG.Valuta, tributi.codiceDistretto as Distretto from tributi join distretti on tributi.codiceDistretto = distretti.codiceDistretto join regioni on distretti.codiceRegione = regioni.codiceRegione join TUCG on regioni.valuta = TUCG.valuta where tributi.codiceDistretto = %s group by tributi.codiceDistretto;\"\n",
    "    codiceDistretto = input(\"Inserisci il codice del distretto di cui si desidera conoscere il debito nella sua moneta Regionale. Se desiderate vedere i possibili codici distretto inserite 'all'\")\n",
    "    if codiceDistretto == \"all\":\n",
    "        query = \"select codiceDistretto from Distretti order by codiceDistretto;\"\n",
    "        res = execute_query(db, query)\n",
    "        for x in res:\n",
    "            print(f\"Codice Distretto : {x[0]}\")\n",
    "    else:\n",
    "        try:\n",
    "            codiceDistretto = int(codiceDistretto)\n",
    "        except Error:\n",
    "            print(\"Codice Distretto nel formato non corretto\")\n",
    "            return 1\n",
    "        res = execute_query(db, query, (codiceDistretto,))\n",
    "        if res == None:\n",
    "            print(\"Distretto non trovato\")\n",
    "        else:\n",
    "            for x in res:\n",
    "                print(f\"Debito : {x[0]} - Valuta : {x[1]}\")"
   ]
  },
  {
   "cell_type": "markdown",
   "metadata": {},
   "source": [
    "**Operazione D**\n",
    "\n",
    "*Visualizzare i 5 Mondi su cui incidono maggiormente i tributi così da poter dare la possibilità di cambiarne la fascia fiscale di appartenenza per abbassare la pressione fiscale (la pressione è vista come rapporto tra tributi e pil)*\n",
    "\n",
    "---\n",
    "\n",
    "L'operazione D è probabilmente la più semplice poiché possiamo vederla come la visualizzazione di una semplice statistica."
   ]
  },
  {
   "cell_type": "code",
   "execution_count": null,
   "metadata": {},
   "outputs": [],
   "source": [
    "def operazioneD(db):\n",
    "    query = \"select (abitanti*indiceprocapite + superficieproduttiva*indiceprometro)/pil as pressione, nome from mondi join TUFF on fasciaFiscale = codiceFascia order by pressione desc limit 5;\"\n",
    "    res = execute_query(db, query)\n",
    "    for x in res:\n",
    "        print(f\"Pressione : {(x[0]/1000000):.2e} - Mondo : {x[1]}\")"
   ]
  },
  {
   "cell_type": "markdown",
   "metadata": {},
   "source": [
    "**Operazione E**\n",
    "\n",
    "*Visualizzare per un dato Distretto lo storico dei Consoli che l’hanno governato*\n",
    "\n",
    "---\n",
    "\n",
    "L'operazione E ha al suo interno un solo parametro che gestiremo come già abbiamo visto per l'operazione C."
   ]
  },
  {
   "cell_type": "code",
   "execution_count": null,
   "metadata": {},
   "outputs": [],
   "source": [
    "def operazioneE(db):\n",
    "    query = \"select nome, cognome, dataDiElezione from consoli where codiceDistretto = %s order by DataDiElezione;\"\n",
    "    codiceDistretto = input(\"Inserisci il codice del distretto di cui si desidera conoscere lo storico dei Consoli. Se desiderate vedere i possibili codici distretto inserite 'all'\")\n",
    "    if codiceDistretto == \"all\":\n",
    "        query = \"select codiceDistretto from Distretti order by codiceDistretto;\"\n",
    "        res = execute_query(db, query)\n",
    "        for x in res:\n",
    "            print(f\"Codice Distretto : {x[0]}\")\n",
    "    else:\n",
    "        try:\n",
    "            codice = int(codiceDistretto)\n",
    "        except Error:\n",
    "            print(\"Codice Distretto nel formato non corretto\")\n",
    "            return 1\n",
    "        res = execute_query(db, query, (codice,))\n",
    "        if res == None:\n",
    "            print(\"Distretto non trovato\")\n",
    "        else:\n",
    "            for x in res:\n",
    "                print(f\"Nome : {x[0]} - Cognome : {x[1]} - DataDiElezione : {x[2]}\")"
   ]
  },
  {
   "cell_type": "markdown",
   "metadata": {},
   "source": [
    "**Console**\n",
    "\n",
    "---\n",
    "\n",
    "La console è un semplice terminale con inserimento da tastiera. I comandi possibili sono i seguenti:\n",
    "1. **V** : Visualizza lista dei comandi\n",
    "2. **Q** : Esci dalla console\n",
    "3. **N** : Simula un nuovo anno\n",
    "4. **A** : Esegui operazione A\n",
    "5. **B** : Esegui operazione B\n",
    "6. **C** : Esegui operazione C\n",
    "7. **D** : Esegui operazione D\n",
    "8. **E** : Esegui operazione E"
   ]
  },
  {
   "cell_type": "code",
   "execution_count": null,
   "metadata": {},
   "outputs": [],
   "source": [
    "def operazioneV():\n",
    "    print(\"V : Visualizza lista dei comandi\")\n",
    "    print(\"Q : Esci dalla console\")\n",
    "    print(\"N : Simula un nuovo anno\")\n",
    "    print(\"A : Esegui operazione A (Situazione Debiti)\")\n",
    "    print(\"B : Esegui operazione B (Situazione Tributi)\")\n",
    "    print(\"C : Esegui operazione C (Valuta Regionale)\")\n",
    "    print(\"D : Esegui operazione D (Situazione Pressione)\")\n",
    "    print(\"E : Esegui operazione E (Storico Consoli)\")"
   ]
  },
  {
   "cell_type": "code",
   "execution_count": null,
   "metadata": {},
   "outputs": [],
   "source": [
    "def delimiter():\n",
    "    for i in range (10):\n",
    "        print(\"-\", end =\" \")\n",
    "    print()"
   ]
  },
  {
   "cell_type": "code",
   "execution_count": null,
   "metadata": {},
   "outputs": [],
   "source": [
    "import time \n",
    "\n",
    "def console(db):\n",
    "    print(\"Salve Imperatore Agostino MDI. \\n Questa è la console per la gestione della base di dati da Lei richiesta. \\n Questi sono i comandi.\")\n",
    "    delimiter()\n",
    "    operazioneV()\n",
    "    delimiter()\n",
    "    esc = False\n",
    "    while esc == False:\n",
    "        choose = input(\"Prego, inserisca la lettera dell'operazione che desidera eseguire.\")\n",
    "        if choose.upper() not in [\"V\", \"Q\", \"N\", \"A\", \"B\", \"C\", \"D\", \"E\"]:\n",
    "            print(\"La lettera desiderata non risulta tra le opzioni, la prego di riprovare.\")\n",
    "        if choose.upper() == \"V\":\n",
    "            operazioneV()\n",
    "            delimiter()\n",
    "        if choose.upper() == \"Q\":\n",
    "            esc = True\n",
    "            print(\"Arrivederci. \")\n",
    "            delimiter()\n",
    "        if choose.upper() == \"N\":\n",
    "            one_year_later(db)\n",
    "            delimiter()\n",
    "        if choose.upper() == \"A\":\n",
    "            operazioneA(db)\n",
    "            delimiter()\n",
    "        if choose.upper() == \"B\":\n",
    "            operazioneB(db)\n",
    "            delimiter()\n",
    "        if choose.upper() == \"C\":\n",
    "            operazioneC(db)\n",
    "            delimiter()\n",
    "        if choose.upper() == \"D\":\n",
    "            operazioneD(db)\n",
    "            delimiter()\n",
    "        if choose.upper() == \"E\":\n",
    "            operazioneE(db)\n",
    "            delimiter() \n",
    "        \n",
    "        time.sleep(2)"
   ]
  },
  {
   "cell_type": "markdown",
   "metadata": {},
   "source": [
    "Ecco dunque che possiamo usare il programma vero e proprio con una semplice chiamata a Console."
   ]
  },
  {
   "cell_type": "code",
   "execution_count": null,
   "metadata": {},
   "outputs": [],
   "source": [
    "console(mydb)"
   ]
  },
  {
   "cell_type": "code",
   "execution_count": null,
   "metadata": {},
   "outputs": [],
   "source": [
    "mydb.close()"
   ]
  }
 ],
 "metadata": {
  "kernelspec": {
   "display_name": "Python 3",
   "language": "python",
   "name": "python3"
  },
  "language_info": {
   "codemirror_mode": {
    "name": "ipython",
    "version": 3
   },
   "file_extension": ".py",
   "mimetype": "text/x-python",
   "name": "python",
   "nbconvert_exporter": "python",
   "pygments_lexer": "ipython3",
   "version": "3.12.3"
  }
 },
 "nbformat": 4,
 "nbformat_minor": 2
}
